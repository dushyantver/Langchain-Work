{
  "cells": [
    {
      "cell_type": "code",
      "execution_count": 1,
      "metadata": {
        "id": "2hS2qoJWAygJ"
      },
      "outputs": [],
      "source": [
        "#pip install -q langchain openai chromadb"
      ]
    },
    {
      "cell_type": "code",
      "execution_count": 11,
      "metadata": {
        "colab": {
          "base_uri": "https://localhost:8080/"
        },
        "id": "nF9jclBPGzre",
        "outputId": "9ddcf029-c61f-46af-a213-2c1ed5c3626b"
      },
      "outputs": [],
      "source": [
        "#!pip install tiktoken"
      ]
    },
    {
      "cell_type": "code",
      "execution_count": 2,
      "metadata": {
        "id": "MO9WTUeeBAfB"
      },
      "outputs": [],
      "source": [
        "from langchain.document_loaders import CSVLoader\n",
        "from langchain.indexes import VectorstoreIndexCreator\n",
        "from langchain.chains import RetrievalQA\n",
        "from langchain.llms import OpenAI\n",
        "import os\n",
        "#import openai\n",
        "from dotenv import load_dotenv"
      ]
    },
    {
      "cell_type": "code",
      "execution_count": 3,
      "metadata": {
        "colab": {
          "base_uri": "https://localhost:8080/"
        },
        "id": "HV8NxcAMmoVW",
        "outputId": "8279a5c0-c695-4c82-ffd1-9ba452e22627"
      },
      "outputs": [],
      "source": [
        "load_dotenv()\n",
        "openai_api_key = os.getenv(\"OpenAI_API_Key\")"
      ]
    },
    {
      "cell_type": "code",
      "execution_count": 4,
      "metadata": {
        "id": "ay-JyHEnExpp"
      },
      "outputs": [],
      "source": [
        "os.environ[\"OPENAI_API_KEY\"] = openai_api_key\n",
        "## model name\n",
        "#MODEL_NAME = \"gpt-3.5-turbo\"\n",
        "llm = OpenAI(temperature=0)"
      ]
    },
    {
      "cell_type": "code",
      "execution_count": 7,
      "metadata": {
        "id": "TsIf6BJPFhC7"
      },
      "outputs": [],
      "source": [
        "\n",
        "# Load the documents\n",
        "loader = CSVLoader(file_path='D:\\\\Data_analytics_new\\\\Generative_AI\\\\Langchain\\\\Langchain-Work\\\\transactions12.csv')"
      ]
    },
    {
      "cell_type": "code",
      "execution_count": 8,
      "metadata": {},
      "outputs": [
        {
          "name": "stdout",
          "output_type": "stream",
          "text": [
            "[Document(page_content='product_code: Prod001\\ncustomer_code: Cus001\\nmarket_code: Mark001\\norder_date: 10-10-2017\\nsales_qty: 100\\nsales_amount: 41241\\ncurrency: INR', metadata={'source': 'D:\\\\Data_analytics_new\\\\Generative_AI\\\\Langchain\\\\Langchain-Work\\\\transactions12.csv', 'row': 0}), Document(page_content='product_code: Prod001\\ncustomer_code: Cus002\\nmarket_code: Mark002\\norder_date: 08-05-2018\\nsales_qty: 3\\nsales_amount: -1\\ncurrency: INR', metadata={'source': 'D:\\\\Data_analytics_new\\\\Generative_AI\\\\Langchain\\\\Langchain-Work\\\\transactions12.csv', 'row': 1}), Document(page_content='product_code: Prod002\\ncustomer_code: Cus003\\nmarket_code: Mark003\\norder_date: 06-04-2018\\nsales_qty: 1\\nsales_amount: 875\\ncurrency: INR', metadata={'source': 'D:\\\\Data_analytics_new\\\\Generative_AI\\\\Langchain\\\\Langchain-Work\\\\transactions12.csv', 'row': 2}), Document(page_content='product_code: Prod002\\ncustomer_code: Cus003\\nmarket_code: Mark003\\norder_date: 11-04-2018\\nsales_qty: 1\\nsales_amount: 583\\ncurrency: INR', metadata={'source': 'D:\\\\Data_analytics_new\\\\Generative_AI\\\\Langchain\\\\Langchain-Work\\\\transactions12.csv', 'row': 3}), Document(page_content='product_code: Prod002\\ncustomer_code: Cus004\\nmarket_code: Mark003\\norder_date: 18-06-2018\\nsales_qty: 6\\nsales_amount: 7176\\ncurrency: INR', metadata={'source': 'D:\\\\Data_analytics_new\\\\Generative_AI\\\\Langchain\\\\Langchain-Work\\\\transactions12.csv', 'row': 4}), Document(page_content='product_code: Prod003\\ncustomer_code: Cus005\\nmarket_code: Mark004\\norder_date: 20-11-2017\\nsales_qty: 59\\nsales_amount: 500\\ncurrency: USD', metadata={'source': 'D:\\\\Data_analytics_new\\\\Generative_AI\\\\Langchain\\\\Langchain-Work\\\\transactions12.csv', 'row': 5}), Document(page_content='product_code: Prod003\\ncustomer_code: Cus005\\nmarket_code: Mark004\\norder_date: 22-11-2017\\nsales_qty: 36\\nsales_amount: 250\\ncurrency: USD', metadata={'source': 'D:\\\\Data_analytics_new\\\\Generative_AI\\\\Langchain\\\\Langchain-Work\\\\transactions12.csv', 'row': 6}), Document(page_content='product_code: Prod003\\ncustomer_code: Cus005\\nmarket_code: Mark004\\norder_date: 23-11-2017\\nsales_qty: 39\\nsales_amount: 21412\\ncurrency: INR', metadata={'source': 'D:\\\\Data_analytics_new\\\\Generative_AI\\\\Langchain\\\\Langchain-Work\\\\transactions12.csv', 'row': 7}), Document(page_content='product_code: Prod003\\ncustomer_code: Cus005\\nmarket_code: Mark004\\norder_date: 27-11-2017\\nsales_qty: 35\\nsales_amount: 19213\\ncurrency: INR', metadata={'source': 'D:\\\\Data_analytics_new\\\\Generative_AI\\\\Langchain\\\\Langchain-Work\\\\transactions12.csv', 'row': 8}), Document(page_content='product_code: Prod003\\ncustomer_code: Cus005\\nmarket_code: Mark004\\norder_date: 28-11-2017\\nsales_qty: 310\\nsales_amount: 170185\\ncurrency: INR', metadata={'source': 'D:\\\\Data_analytics_new\\\\Generative_AI\\\\Langchain\\\\Langchain-Work\\\\transactions12.csv', 'row': 9}), Document(page_content='product_code: Prod003\\ncustomer_code: Cus005\\nmarket_code: Mark004\\norder_date: 29-11-2017\\nsales_qty: 184\\nsales_amount: 101194\\ncurrency: INR', metadata={'source': 'D:\\\\Data_analytics_new\\\\Generative_AI\\\\Langchain\\\\Langchain-Work\\\\transactions12.csv', 'row': 10})]\n"
          ]
        }
      ],
      "source": [
        "data = loader.load()\n",
        "print(data)"
      ]
    },
    {
      "cell_type": "code",
      "execution_count": 9,
      "metadata": {
        "id": "rMaRfg-hGMHx"
      },
      "outputs": [],
      "source": [
        "# Create an index using the loaded documents\n",
        "index_creator = VectorstoreIndexCreator()\n",
        "docsearch = index_creator.from_loaders([loader])"
      ]
    },
    {
      "cell_type": "code",
      "execution_count": 10,
      "metadata": {
        "id": "n_5MVR2QGoF4"
      },
      "outputs": [],
      "source": [
        "# Create a question-answering chain using the index\n",
        "chain = RetrievalQA.from_chain_type(llm=llm, chain_type=\"stuff\", retriever=docsearch.vectorstore.as_retriever(), input_key=\"question\")\n"
      ]
    },
    {
      "cell_type": "code",
      "execution_count": 15,
      "metadata": {
        "id": "oTQ9Kum8HUFH"
      },
      "outputs": [],
      "source": [
        "\n",
        "# Pass a query to the chain\n",
        "query = \"How many rows are there in dataset\"\n",
        "response = chain({\"question\": query})"
      ]
    },
    {
      "cell_type": "code",
      "execution_count": 16,
      "metadata": {
        "colab": {
          "base_uri": "https://localhost:8080/"
        },
        "id": "9ek2O8DiHahc",
        "outputId": "79e39874-1bb4-4aa7-f74a-9d1a9485ae29"
      },
      "outputs": [
        {
          "name": "stdout",
          "output_type": "stream",
          "text": [
            " 4\n"
          ]
        }
      ],
      "source": [
        "print(response['result'])"
      ]
    },
    {
      "cell_type": "code",
      "execution_count": null,
      "metadata": {
        "id": "8tcGRTLvHd-V"
      },
      "outputs": [],
      "source": []
    }
  ],
  "metadata": {
    "colab": {
      "provenance": []
    },
    "kernelspec": {
      "display_name": "Python 3",
      "name": "python3"
    },
    "language_info": {
      "codemirror_mode": {
        "name": "ipython",
        "version": 3
      },
      "file_extension": ".py",
      "mimetype": "text/x-python",
      "name": "python",
      "nbconvert_exporter": "python",
      "pygments_lexer": "ipython3",
      "version": "3.8.18"
    }
  },
  "nbformat": 4,
  "nbformat_minor": 0
}
