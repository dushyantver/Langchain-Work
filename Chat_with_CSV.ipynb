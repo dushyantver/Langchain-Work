{
  "cells": [
    {
      "cell_type": "code",
      "execution_count": 1,
      "metadata": {
        "id": "2hS2qoJWAygJ"
      },
      "outputs": [
        {
          "name": "stdout",
          "output_type": "stream",
          "text": [
            "Note: you may need to restart the kernel to use updated packages.\n"
          ]
        }
      ],
      "source": [
        "pip install -q langchain openai chromadb"
      ]
    },
    {
      "cell_type": "code",
      "execution_count": 2,
      "metadata": {
        "colab": {
          "base_uri": "https://localhost:8080/"
        },
        "id": "nF9jclBPGzre",
        "outputId": "9ddcf029-c61f-46af-a213-2c1ed5c3626b"
      },
      "outputs": [
        {
          "name": "stdout",
          "output_type": "stream",
          "text": [
            "Collecting tiktoken\n",
            "  Downloading tiktoken-0.5.1-cp38-cp38-win_amd64.whl.metadata (6.8 kB)\n",
            "Collecting regex>=2022.1.18 (from tiktoken)\n",
            "  Using cached regex-2023.10.3-cp38-cp38-win_amd64.whl.metadata (41 kB)\n",
            "Requirement already satisfied: requests>=2.26.0 in c:\\users\\oliver\\anaconda4\\envs\\llms\\lib\\site-packages (from tiktoken) (2.31.0)\n",
            "Requirement already satisfied: charset-normalizer<4,>=2 in c:\\users\\oliver\\anaconda4\\envs\\llms\\lib\\site-packages (from requests>=2.26.0->tiktoken) (3.3.1)\n",
            "Requirement already satisfied: idna<4,>=2.5 in c:\\users\\oliver\\anaconda4\\envs\\llms\\lib\\site-packages (from requests>=2.26.0->tiktoken) (3.4)\n",
            "Requirement already satisfied: urllib3<3,>=1.21.1 in c:\\users\\oliver\\anaconda4\\envs\\llms\\lib\\site-packages (from requests>=2.26.0->tiktoken) (2.0.7)\n",
            "Requirement already satisfied: certifi>=2017.4.17 in c:\\users\\oliver\\anaconda4\\envs\\llms\\lib\\site-packages (from requests>=2.26.0->tiktoken) (2023.7.22)\n",
            "Downloading tiktoken-0.5.1-cp38-cp38-win_amd64.whl (759 kB)\n",
            "   ---------------------------------------- 0.0/759.4 kB ? eta -:--:--\n",
            "    --------------------------------------- 10.2/759.4 kB ? eta -:--:--\n",
            "   --- ----------------------------------- 61.4/759.4 kB 825.8 kB/s eta 0:00:01\n",
            "   ------------ --------------------------- 235.5/759.4 kB 1.8 MB/s eta 0:00:01\n",
            "   ------------------------------ --------- 573.4/759.4 kB 3.6 MB/s eta 0:00:01\n",
            "   ---------------------------------------- 759.4/759.4 kB 4.4 MB/s eta 0:00:00\n",
            "Using cached regex-2023.10.3-cp38-cp38-win_amd64.whl (269 kB)\n",
            "Installing collected packages: regex, tiktoken\n",
            "Successfully installed regex-2023.10.3 tiktoken-0.5.1\n"
          ]
        },
        {
          "name": "stderr",
          "output_type": "stream",
          "text": [
            "WARNING: Retrying (Retry(total=4, connect=None, read=None, redirect=None, status=None)) after connection broken by 'ReadTimeoutError(\"HTTPSConnectionPool(host='pypi.org', port=443): Read timed out. (read timeout=15)\")': /simple/tiktoken/\n",
            "WARNING: Retrying (Retry(total=3, connect=None, read=None, redirect=None, status=None)) after connection broken by 'ReadTimeoutError(\"HTTPSConnectionPool(host='pypi.org', port=443): Read timed out. (read timeout=15)\")': /simple/tiktoken/\n"
          ]
        }
      ],
      "source": [
        "!pip install tiktoken"
      ]
    },
    {
      "cell_type": "code",
      "execution_count": 18,
      "metadata": {
        "id": "MO9WTUeeBAfB"
      },
      "outputs": [],
      "source": [
        "from langchain.document_loaders import CSVLoader\n",
        "from langchain.indexes import VectorstoreIndexCreator\n",
        "from langchain.chains import RetrievalQA\n",
        "from langchain.llms import OpenAI\n",
        "import os\n",
        "#import openai\n",
        "from dotenv import load_dotenv"
      ]
    },
    {
      "cell_type": "code",
      "execution_count": 19,
      "metadata": {
        "colab": {
          "base_uri": "https://localhost:8080/"
        },
        "id": "HV8NxcAMmoVW",
        "outputId": "8279a5c0-c695-4c82-ffd1-9ba452e22627"
      },
      "outputs": [],
      "source": [
        "load_dotenv()\n",
        "openai_api_key = os.getenv(\"OpenAI_API_Key\")"
      ]
    },
    {
      "cell_type": "code",
      "execution_count": 21,
      "metadata": {
        "id": "ay-JyHEnExpp"
      },
      "outputs": [],
      "source": [
        "os.environ[\"OPENAI_API_KEY\"] = openai_api_key\n",
        "## model name\n",
        "#MODEL_NAME = \"gpt-3.5-turbo\"\n",
        "llm = OpenAI(temperature=0.6)"
      ]
    },
    {
      "cell_type": "code",
      "execution_count": 22,
      "metadata": {
        "id": "TsIf6BJPFhC7"
      },
      "outputs": [],
      "source": [
        "\n",
        "# Load the documents\n",
        "loader = CSVLoader(file_path='gpt_practice.csv')"
      ]
    },
    {
      "cell_type": "code",
      "execution_count": 27,
      "metadata": {},
      "outputs": [
        {
          "name": "stdout",
          "output_type": "stream",
          "text": [
            "[Document(page_content='Date: 17-Oct-22\\nPrice: 17311.8', metadata={'source': 'gpt_practice.csv', 'row': 0}), Document(page_content='Date: 18-Oct-22\\nPrice: 17486.95', metadata={'source': 'gpt_practice.csv', 'row': 1}), Document(page_content='Date: 19-Oct-22\\nPrice: 17512.25', metadata={'source': 'gpt_practice.csv', 'row': 2}), Document(page_content='Date: 20-Oct-22\\nPrice: 17563.95', metadata={'source': 'gpt_practice.csv', 'row': 3}), Document(page_content='Date: 21-Oct-22\\nPrice: 17576.3', metadata={'source': 'gpt_practice.csv', 'row': 4}), Document(page_content='Date: 24-Oct-22\\nPrice: 17730.75', metadata={'source': 'gpt_practice.csv', 'row': 5}), Document(page_content='Date: 25-Oct-22\\nPrice: 17656.35', metadata={'source': 'gpt_practice.csv', 'row': 6}), Document(page_content='Date: 27-Oct-22\\nPrice: 17736.95', metadata={'source': 'gpt_practice.csv', 'row': 7}), Document(page_content='Date: 28-Oct-22\\nPrice: 17786.8', metadata={'source': 'gpt_practice.csv', 'row': 8})]\n"
          ]
        }
      ],
      "source": [
        "data = loader.load()\n",
        "print(data)"
      ]
    },
    {
      "cell_type": "code",
      "execution_count": 23,
      "metadata": {
        "id": "rMaRfg-hGMHx"
      },
      "outputs": [],
      "source": [
        "# Create an index using the loaded documents\n",
        "index_creator = VectorstoreIndexCreator()\n",
        "docsearch = index_creator.from_loaders([loader])"
      ]
    },
    {
      "cell_type": "code",
      "execution_count": 25,
      "metadata": {
        "id": "n_5MVR2QGoF4"
      },
      "outputs": [],
      "source": [
        "# Create a question-answering chain using the index\n",
        "chain = RetrievalQA.from_chain_type(llm=llm, chain_type=\"stuff\", retriever=docsearch.vectorstore.as_retriever(), input_key=\"question\")\n"
      ]
    },
    {
      "cell_type": "code",
      "execution_count": 8,
      "metadata": {
        "id": "oTQ9Kum8HUFH"
      },
      "outputs": [],
      "source": [
        "\n",
        "# Pass a query to the chain\n",
        "query = \"Give me key insignts from a line chart between date and price column.\"\n",
        "response = chain({\"question\": query})"
      ]
    },
    {
      "cell_type": "code",
      "execution_count": 9,
      "metadata": {
        "colab": {
          "base_uri": "https://localhost:8080/"
        },
        "id": "9ek2O8DiHahc",
        "outputId": "79e39874-1bb4-4aa7-f74a-9d1a9485ae29"
      },
      "outputs": [
        {
          "name": "stdout",
          "output_type": "stream",
          "text": [
            " The price increased from 17311.8 on 17-Oct-22 to 17786.8 on 28-Oct-22, with the highest price being 17786.8 on 28-Oct-22 and the lowest price being 17311.8 on 17-Oct-22. Price had a steady increase over the 10 day period, with the highest increase of 475.0 occurring between 21-Oct-22 and 25-Oct-22.\n"
          ]
        }
      ],
      "source": [
        "print(response['result'])"
      ]
    },
    {
      "cell_type": "code",
      "execution_count": null,
      "metadata": {
        "id": "8tcGRTLvHd-V"
      },
      "outputs": [],
      "source": []
    }
  ],
  "metadata": {
    "colab": {
      "provenance": []
    },
    "kernelspec": {
      "display_name": "Python 3",
      "name": "python3"
    },
    "language_info": {
      "codemirror_mode": {
        "name": "ipython",
        "version": 3
      },
      "file_extension": ".py",
      "mimetype": "text/x-python",
      "name": "python",
      "nbconvert_exporter": "python",
      "pygments_lexer": "ipython3",
      "version": "3.8.18"
    }
  },
  "nbformat": 4,
  "nbformat_minor": 0
}
